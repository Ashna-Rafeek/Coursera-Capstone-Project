{
 "cells": [
  {
   "cell_type": "markdown",
   "metadata": {
    "collapsed": true
   },
   "source": [
    "# Capstone Project\n",
    "## IBM Data Science Professional Certificate"
   ]
  },
  {
   "cell_type": "markdown",
   "metadata": {},
   "source": [
    "### Opening a Japanese Restaurant in Toronto, Canada"
   ]
  },
  {
   "cell_type": "markdown",
   "metadata": {},
   "source": [
    "### Done by: Ashna Rafeek"
   ]
  },
  {
   "cell_type": "markdown",
   "metadata": {},
   "source": [
    "# Introduction"
   ]
  },
  {
   "cell_type": "markdown",
   "metadata": {},
   "source": [
    "Restaurant business is considered to be stable if the demographics requirements are met.\n",
    "Especially, crowded metropolis areas require restaurants for busy people who work in\n",
    "the city and prefer dining-out than cooking at home. For our studies we are interested in\n",
    "Japanese cuisine as it is the favorite of big audiences, starting from vegans to people of\n",
    "any age.\n"
   ]
  },
  {
   "cell_type": "markdown",
   "metadata": {},
   "source": [
    "Location-wise Toronto is the most-populated city in Canada with over 6 million people\n",
    "in 2020 with the highest median salary of 123,000 CAD across the country. Thus it is\n",
    "believed that restaurant business goes well around the city. This study is going to\n",
    "analyze the best possible location for our Japanese Restaurant in Toronto, Canada so\n",
    "potential stakeholders could have great success and consistent profit."
   ]
  },
  {
   "cell_type": "markdown",
   "metadata": {},
   "source": [
    "# Business Problem"
   ]
  },
  {
   "cell_type": "markdown",
   "metadata": {},
   "source": [
    "The objective of this project is to analyze and select the best locations in the city of\n",
    "Toronto, Canada to open a new Japanese restaurant. Utilizing data science methodology\n",
    "and instruments such as data analysis and data visualization project aims to provide\n",
    "solutions for our business problem: Where in Toronto, Canada should the investor open\n",
    "a Japanese Restaurant.\n"
   ]
  },
  {
   "cell_type": "markdown",
   "metadata": {},
   "source": [
    "# Data Description"
   ]
  },
  {
   "cell_type": "markdown",
   "metadata": {},
   "source": [
    "To proceed with studies we will be using the following data:\n",
    "1. Toronto, Canada data containing neighborhoods and boroughs\n",
    "2. Latitude and Longitude coordinates of these neighborhoods for plotting the map\n",
    "3. Venue data, namely restaurants data of Toronto"
   ]
  },
  {
   "cell_type": "markdown",
   "metadata": {},
   "source": [
    "# Data Source"
   ]
  },
  {
   "cell_type": "markdown",
   "metadata": {},
   "source": [
    "Toronto data source for neighborhoods and boroughs will be obtained from Wikipedia\n",
    "and wrangled with python pandas library. Further, we will retrieve geographical\n",
    "coordinates (latitude, longitude) from the website: http://cocl.us/Geospatial_data\n",
    "provided by IBM.\n"
   ]
  },
  {
   "cell_type": "markdown",
   "metadata": {},
   "source": [
    "Additionally, we are going to use Foursquare API to get venue data for the\n",
    "neighborhoods. Foursquare is one of the largest database for location data with over 100\n",
    "million places. Foursquare API provides different categories of the venue data,\n",
    "particularly we are interested in restaurant data to find the solution to our business\n",
    "problem."
   ]
  }
 ],
 "metadata": {
  "kernelspec": {
   "display_name": "Python 3.7",
   "language": "python",
   "name": "python3"
  },
  "language_info": {
   "codemirror_mode": {
    "name": "ipython",
    "version": 3
   },
   "file_extension": ".py",
   "mimetype": "text/x-python",
   "name": "python",
   "nbconvert_exporter": "python",
   "pygments_lexer": "ipython3",
   "version": "3.7.9"
  }
 },
 "nbformat": 4,
 "nbformat_minor": 1
}
